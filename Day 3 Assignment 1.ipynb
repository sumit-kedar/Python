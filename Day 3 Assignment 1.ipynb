{
 "cells": [
  {
   "cell_type": "code",
   "execution_count": 7,
   "metadata": {},
   "outputs": [
    {
     "name": "stdout",
     "output_type": "stream",
     "text": [
      "Altitude: 1000\n",
      "Safe to land\n"
     ]
    }
   ],
   "source": [
    "alti=int(input(\"Altitude: \"))\n",
    "if (alti<=1000):\n",
    "    print(\"Safe to land\")\n",
    "elif (1000<alti<=4500):\n",
    "    print(\"Bring down to 1000\")\n",
    "elif (alti>4500):\n",
    "    print(\"Turn around and try later\")"
   ]
  }
 ],
 "metadata": {
  "kernelspec": {
   "display_name": "Python 3",
   "language": "python",
   "name": "python3"
  },
  "language_info": {
   "codemirror_mode": {
    "name": "ipython",
    "version": 3
   },
   "file_extension": ".py",
   "mimetype": "text/x-python",
   "name": "python",
   "nbconvert_exporter": "python",
   "pygments_lexer": "ipython3",
   "version": "3.8.3"
  }
 },
 "nbformat": 4,
 "nbformat_minor": 4
}
